{
 "cells": [
  {
   "cell_type": "markdown",
   "metadata": {},
   "source": [
    "## Library Import\n"
   ]
  },
  {
   "cell_type": "code",
   "execution_count": 4,
   "metadata": {},
   "outputs": [],
   "source": [
    "import pandas as pd\n",
    "import numpy as np\n",
    "import seaborn as sns\n",
    "import matplotlib.pyplot as plt"
   ]
  },
  {
   "cell_type": "code",
   "execution_count": 5,
   "metadata": {},
   "outputs": [],
   "source": [
    "Data = pd.read_csv('apartments.csv', sep=';', encoding='latin-1')"
   ]
  },
  {
   "cell_type": "code",
   "execution_count": 6,
   "metadata": {},
   "outputs": [
    {
     "data": {
      "text/plain": [
       "Index(['id', 'category', 'title', 'body', 'amenities', 'bathrooms', 'bedrooms',\n",
       "       'currency', 'fee', 'has_photo', 'pets_allowed', 'price',\n",
       "       'price_display', 'price_type', 'square_feet', 'address', 'cityname',\n",
       "       'state', 'latitude', 'longitude', 'source', 'time'],\n",
       "      dtype='object')"
      ]
     },
     "execution_count": 6,
     "metadata": {},
     "output_type": "execute_result"
    }
   ],
   "source": [
    "\n",
    "sns.set(style='whitegrid',context='notebook')\n",
    "Data.columns"
   ]
  },
  {
   "cell_type": "markdown",
   "metadata": {},
   "source": [
    "## Types of data"
   ]
  },
  {
   "cell_type": "code",
   "execution_count": 7,
   "metadata": {},
   "outputs": [
    {
     "name": "stdout",
     "output_type": "stream",
     "text": [
      "<class 'pandas.core.frame.DataFrame'>\n",
      "RangeIndex: 10000 entries, 0 to 9999\n",
      "Data columns (total 22 columns):\n",
      " #   Column         Non-Null Count  Dtype  \n",
      "---  ------         --------------  -----  \n",
      " 0   id             10000 non-null  int64  \n",
      " 1   category       10000 non-null  object \n",
      " 2   title          10000 non-null  object \n",
      " 3   body           10000 non-null  object \n",
      " 4   amenities      6451 non-null   object \n",
      " 5   bathrooms      9966 non-null   float64\n",
      " 6   bedrooms       9993 non-null   float64\n",
      " 7   currency       10000 non-null  object \n",
      " 8   fee            10000 non-null  object \n",
      " 9   has_photo      10000 non-null  object \n",
      " 10  pets_allowed   5837 non-null   object \n",
      " 11  price          10000 non-null  int64  \n",
      " 12  price_display  10000 non-null  object \n",
      " 13  price_type     10000 non-null  object \n",
      " 14  square_feet    10000 non-null  int64  \n",
      " 15  address        6673 non-null   object \n",
      " 16  cityname       9923 non-null   object \n",
      " 17  state          9923 non-null   object \n",
      " 18  latitude       9990 non-null   float64\n",
      " 19  longitude      9990 non-null   float64\n",
      " 20  source         10000 non-null  object \n",
      " 21  time           10000 non-null  int64  \n",
      "dtypes: float64(4), int64(4), object(14)\n",
      "memory usage: 1.7+ MB\n"
     ]
    }
   ],
   "source": [
    "Data.info()"
   ]
  },
  {
   "cell_type": "code",
   "execution_count": 8,
   "metadata": {},
   "outputs": [
    {
     "data": {
      "text/plain": [
       "amenities\n",
       "Parking                                                                                                                     229\n",
       "Dishwasher,Refrigerator                                                                                                     225\n",
       "Pool                                                                                                                        171\n",
       "Dishwasher,Parking,Pool                                                                                                     149\n",
       "Dishwasher                                                                                                                  147\n",
       "                                                                                                                           ... \n",
       "Cable or Satellite,Dishwasher,Fireplace,Parking,Refrigerator                                                                  1\n",
       "Dishwasher,Garbage Disposal,Patio/Deck,Playground,Pool,Refrigerator                                                           1\n",
       "Gym,Playground,Pool,Washer Dryer                                                                                              1\n",
       "AC,Cable or Satellite,Dishwasher,Garbage Disposal,Gated,Hot Tub,Internet Access,Parking,Storage,Washer Dryer,Wood Floors      1\n",
       "AC,Cable or Satellite,Dishwasher,Elevator,Fireplace,Gated,Parking,Refrigerator,Washer Dryer                                   1\n",
       "Name: count, Length: 2254, dtype: int64"
      ]
     },
     "execution_count": 8,
     "metadata": {},
     "output_type": "execute_result"
    }
   ],
   "source": [
    "Data['amenities'].value_counts()"
   ]
  },
  {
   "cell_type": "code",
   "execution_count": 9,
   "metadata": {},
   "outputs": [],
   "source": [
    "Data['amenities']=Data['amenities'].replace(np.nan,'Nothing')"
   ]
  },
  {
   "cell_type": "code",
   "execution_count": 10,
   "metadata": {},
   "outputs": [],
   "source": [
    "Data['bathrooms']=Data['bathrooms'].fillna(0)"
   ]
  },
  {
   "cell_type": "code",
   "execution_count": 11,
   "metadata": {},
   "outputs": [],
   "source": [
    "Data['bedrooms']=Data['bedrooms'].fillna(0)"
   ]
  },
  {
   "cell_type": "code",
   "execution_count": 12,
   "metadata": {},
   "outputs": [
    {
     "data": {
      "text/plain": [
       "fee\n",
       "No    10000\n",
       "Name: count, dtype: int64"
      ]
     },
     "execution_count": 12,
     "metadata": {},
     "output_type": "execute_result"
    }
   ],
   "source": [
    "Data['fee'].value_counts()"
   ]
  },
  {
   "cell_type": "code",
   "execution_count": 13,
   "metadata": {},
   "outputs": [
    {
     "data": {
      "text/plain": [
       "currency\n",
       "USD    10000\n",
       "Name: count, dtype: int64"
      ]
     },
     "execution_count": 13,
     "metadata": {},
     "output_type": "execute_result"
    }
   ],
   "source": [
    "Data['currency'].value_counts()"
   ]
  },
  {
   "cell_type": "code",
   "execution_count": 14,
   "metadata": {},
   "outputs": [],
   "source": [
    "Data=Data.drop(columns='fee')"
   ]
  },
  {
   "cell_type": "code",
   "execution_count": 15,
   "metadata": {},
   "outputs": [],
   "source": [
    "Data=Data.drop(columns='currency')"
   ]
  },
  {
   "cell_type": "code",
   "execution_count": 16,
   "metadata": {},
   "outputs": [
    {
     "data": {
      "text/plain": [
       "has_photo\n",
       "Thumbnail    8907\n",
       "Yes           909\n",
       "No            184\n",
       "Name: count, dtype: int64"
      ]
     },
     "execution_count": 16,
     "metadata": {},
     "output_type": "execute_result"
    }
   ],
   "source": [
    "Data['has_photo'].value_counts()"
   ]
  },
  {
   "cell_type": "code",
   "execution_count": 17,
   "metadata": {},
   "outputs": [
    {
     "data": {
      "text/plain": [
       "pets_allowed\n",
       "Cats,Dogs    5228\n",
       "Cats          485\n",
       "Dogs          124\n",
       "Name: count, dtype: int64"
      ]
     },
     "execution_count": 17,
     "metadata": {},
     "output_type": "execute_result"
    }
   ],
   "source": [
    "Data['pets_allowed'].value_counts()\n"
   ]
  },
  {
   "cell_type": "code",
   "execution_count": 18,
   "metadata": {},
   "outputs": [],
   "source": [
    "Data['pets_allowed']=Data['pets_allowed'].fillna('No')"
   ]
  },
  {
   "cell_type": "code",
   "execution_count": 19,
   "metadata": {},
   "outputs": [
    {
     "data": {
      "text/plain": [
       "pets_allowed\n",
       "Cats,Dogs    5228\n",
       "No           4163\n",
       "Cats          485\n",
       "Dogs          124\n",
       "Name: count, dtype: int64"
      ]
     },
     "execution_count": 19,
     "metadata": {},
     "output_type": "execute_result"
    }
   ],
   "source": [
    "Data['pets_allowed'].value_counts()"
   ]
  },
  {
   "cell_type": "code",
   "execution_count": 20,
   "metadata": {},
   "outputs": [
    {
     "data": {
      "text/plain": [
       "Text(0.5, 1.0, 'Price Distribution')"
      ]
     },
     "execution_count": 20,
     "metadata": {},
     "output_type": "execute_result"
    },
    {
     "data": {
      "image/png": "[encoded data removed]",
      "text/plain": [
       "<Figure size 640x480 with 1 Axes>"
      ]
     },
     "metadata": {},
     "output_type": "display_data"
    }
   ],
   "source": [
    "sns.boxplot(x=Data['price'])\n",
    "plt.title('Price Distribution')"
   ]
  },
  {
   "cell_type": "code",
   "execution_count": 21,
   "metadata": {},
   "outputs": [
    {
     "data": {
      "text/plain": [
       "price_display\n",
       "$1,350    86\n",
       "$1,250    81\n",
       "$850      79\n",
       "$1,100    77\n",
       "$1,400    74\n",
       "          ..\n",
       "$2,590     1\n",
       "$2,370     1\n",
       "$5,765     1\n",
       "$6,850     1\n",
       "$8,500     1\n",
       "Name: count, Length: 1726, dtype: int64"
      ]
     },
     "execution_count": 21,
     "metadata": {},
     "output_type": "execute_result"
    }
   ],
   "source": [
    "Data['price_display'].value_counts()"
   ]
  },
  {
   "cell_type": "code",
   "execution_count": 22,
   "metadata": {},
   "outputs": [],
   "source": [
    "Data_Clean=Data.copy()"
   ]
  },
  {
   "cell_type": "code",
   "execution_count": 23,
   "metadata": {},
   "outputs": [],
   "source": [
    "Data_Clean=Data_Clean.drop(columns='price_display')"
   ]
  },
  {
   "cell_type": "code",
   "execution_count": 24,
   "metadata": {},
   "outputs": [
    {
     "data": {
      "text/plain": [
       "price_type\n",
       "Monthly           9998\n",
       "Weekly               1\n",
       "Monthly|Weekly       1\n",
       "Name: count, dtype: int64"
      ]
     },
     "execution_count": 24,
     "metadata": {},
     "output_type": "execute_result"
    }
   ],
   "source": [
    "Data_Clean['price_type'].value_counts()"
   ]
  },
  {
   "cell_type": "code",
   "execution_count": 25,
   "metadata": {},
   "outputs": [],
   "source": [
    "Data_Clean = Data_Clean.drop(Data_Clean[Data_Clean['price_type'] == 'Weekly'].index)\n"
   ]
  },
  {
   "cell_type": "code",
   "execution_count": 26,
   "metadata": {},
   "outputs": [],
   "source": [
    "Data_Clean = Data_Clean.drop(Data_Clean[Data_Clean['price_type'] == 'Monthly|Weekly'].index)\n"
   ]
  },
  {
   "cell_type": "code",
   "execution_count": 27,
   "metadata": {},
   "outputs": [],
   "source": [
    "Data_Clean=Data_Clean.drop(columns='price_type')"
   ]
  },
  {
   "cell_type": "code",
   "execution_count": 28,
   "metadata": {},
   "outputs": [
    {
     "data": {
      "text/plain": [
       "address\n",
       "901 Hidden Valley Drive      3\n",
       "908 8th SW St                3\n",
       "500 Sleepy Hollow Rd         3\n",
       "7319 N Loop 1604 E           2\n",
       "110 Central Avenue           2\n",
       "                            ..\n",
       "18605 Ave                    1\n",
       "2536 W Canyon Ridge Road     1\n",
       "5407 Abbott Place  Abbott    1\n",
       "256 Las Entradas             1\n",
       "9908 Bentcross Dr            1\n",
       "Name: count, Length: 6658, dtype: int64"
      ]
     },
     "execution_count": 28,
     "metadata": {},
     "output_type": "execute_result"
    }
   ],
   "source": [
    "Data_Clean['address'].value_counts()"
   ]
  },
  {
   "cell_type": "code",
   "execution_count": 29,
   "metadata": {},
   "outputs": [
    {
     "data": {
      "text/plain": [
       "category\n",
       "housing/rent/apartment     9994\n",
       "housing/rent/home             2\n",
       "housing/rent/short_term       2\n",
       "Name: count, dtype: int64"
      ]
     },
     "execution_count": 29,
     "metadata": {},
     "output_type": "execute_result"
    }
   ],
   "source": [
    "Data_Clean['category'].value_counts()\n"
   ]
  },
  {
   "cell_type": "code",
   "execution_count": 30,
   "metadata": {},
   "outputs": [],
   "source": [
    "Data_Clean['category']=Data_Clean['category'].replace('housing/rent/apartment','apartment')"
   ]
  },
  {
   "cell_type": "code",
   "execution_count": 31,
   "metadata": {},
   "outputs": [],
   "source": [
    "Data_Clean['category']=Data_Clean['category'].replace('housing/rent/home','home')"
   ]
  },
  {
   "cell_type": "code",
   "execution_count": 32,
   "metadata": {},
   "outputs": [],
   "source": [
    "Data_Clean['category']=Data_Clean['category'].replace('housing/rent/short_term','short_term')"
   ]
  },
  {
   "cell_type": "code",
   "execution_count": 33,
   "metadata": {},
   "outputs": [
    {
     "data": {
      "text/plain": [
       "category\n",
       "apartment     9994\n",
       "home             2\n",
       "short_term       2\n",
       "Name: count, dtype: int64"
      ]
     },
     "execution_count": 33,
     "metadata": {},
     "output_type": "execute_result"
    }
   ],
   "source": [
    "Data_Clean['category'].value_counts()"
   ]
  },
  {
   "cell_type": "code",
   "execution_count": 34,
   "metadata": {},
   "outputs": [
    {
     "data": {
      "text/plain": [
       "Text(0.5, 1.0, 'Square feet distribution')"
      ]
     },
     "execution_count": 34,
     "metadata": {},
     "output_type": "execute_result"
    },
    {
     "data": {
      "image/png": "[encoded data removed]",
      "text/plain": [
       "<Figure size 640x480 with 1 Axes>"
      ]
     },
     "metadata": {},
     "output_type": "display_data"
    }
   ],
   "source": [
    "sns.boxplot(x=Data['square_feet'])\n",
    "plt.title('Square feet distribution')"
   ]
  },
  {
   "cell_type": "code",
   "execution_count": 35,
   "metadata": {},
   "outputs": [
    {
     "data": {
      "text/plain": [
       "1574"
      ]
     },
     "execution_count": 35,
     "metadata": {},
     "output_type": "execute_result"
    }
   ],
   "source": [
    "Data['cityname'].value_counts().size"
   ]
  },
  {
   "cell_type": "code",
   "execution_count": 36,
   "metadata": {},
   "outputs": [
    {
     "data": {
      "text/plain": [
       "51"
      ]
     },
     "execution_count": 36,
     "metadata": {},
     "output_type": "execute_result"
    }
   ],
   "source": [
    "Data['state'].value_counts().size"
   ]
  },
  {
   "cell_type": "code",
   "execution_count": 37,
   "metadata": {},
   "outputs": [],
   "source": [
    "Data_Clean['bathrooms']=Data_Clean['bathrooms'].astype(float).astype(int)"
   ]
  },
  {
   "cell_type": "code",
   "execution_count": 38,
   "metadata": {},
   "outputs": [],
   "source": [
    "Data_Clean['bedrooms']=Data_Clean['bedrooms'].astype(float).astype(int)"
   ]
  },
  {
   "cell_type": "code",
   "execution_count": 39,
   "metadata": {},
   "outputs": [],
   "source": [
    "Data_Clean['time']=pd.to_datetime(Data_Clean['time'],unit='s')"
   ]
  },
  {
   "cell_type": "code",
   "execution_count": 40,
   "metadata": {},
   "outputs": [],
   "source": [
    "Data_Clean=Data_Clean.drop(columns=['title','body','address','latitude','longitude','id','time'])"
   ]
  },
  {
   "cell_type": "code",
   "execution_count": 41,
   "metadata": {},
   "outputs": [
    {
     "name": "stdout",
     "output_type": "stream",
     "text": [
      "<class 'pandas.core.frame.DataFrame'>\n",
      "Index: 9998 entries, 0 to 9999\n",
      "Data columns (total 11 columns):\n",
      " #   Column        Non-Null Count  Dtype \n",
      "---  ------        --------------  ----- \n",
      " 0   category      9998 non-null   object\n",
      " 1   amenities     9998 non-null   object\n",
      " 2   bathrooms     9998 non-null   int64 \n",
      " 3   bedrooms      9998 non-null   int64 \n",
      " 4   has_photo     9998 non-null   object\n",
      " 5   pets_allowed  9998 non-null   object\n",
      " 6   price         9998 non-null   int64 \n",
      " 7   square_feet   9998 non-null   int64 \n",
      " 8   cityname      9921 non-null   object\n",
      " 9   state         9921 non-null   object\n",
      " 10  source        9998 non-null   object\n",
      "dtypes: int64(4), object(7)\n",
      "memory usage: 937.3+ KB\n"
     ]
    }
   ],
   "source": [
    "Data_Clean.info()"
   ]
  },
  {
   "cell_type": "code",
   "execution_count": 42,
   "metadata": {},
   "outputs": [
    {
     "data": {
      "text/html": [
       "<div>\n",
       "<style scoped>\n",
       "    .dataframe tbody tr th:only-of-type {\n",
       "        vertical-align: middle;\n",
       "    }\n",
       "\n",
       "    .dataframe tbody tr th {\n",
       "        vertical-align: top;\n",
       "    }\n",
       "\n",
       "    .dataframe thead th {\n",
       "        text-align: right;\n",
       "    }\n",
       "</style>\n",
       "<table border=\"1\" class=\"dataframe\">\n",
       "  <thead>\n",
       "    <tr style=\"text-align: right;\">\n",
       "      <th></th>\n",
       "      <th>bathrooms</th>\n",
       "      <th>bedrooms</th>\n",
       "      <th>price</th>\n",
       "      <th>square_feet</th>\n",
       "    </tr>\n",
       "  </thead>\n",
       "  <tbody>\n",
       "    <tr>\n",
       "      <th>count</th>\n",
       "      <td>9998.000000</td>\n",
       "      <td>9998.000000</td>\n",
       "      <td>9998.000000</td>\n",
       "      <td>9998.000000</td>\n",
       "    </tr>\n",
       "    <tr>\n",
       "      <th>mean</th>\n",
       "      <td>1.342168</td>\n",
       "      <td>1.743049</td>\n",
       "      <td>1486.391278</td>\n",
       "      <td>945.949690</td>\n",
       "    </tr>\n",
       "    <tr>\n",
       "      <th>std</th>\n",
       "      <td>0.584591</td>\n",
       "      <td>0.943057</td>\n",
       "      <td>1076.547225</td>\n",
       "      <td>655.747081</td>\n",
       "    </tr>\n",
       "    <tr>\n",
       "      <th>min</th>\n",
       "      <td>0.000000</td>\n",
       "      <td>0.000000</td>\n",
       "      <td>200.000000</td>\n",
       "      <td>101.000000</td>\n",
       "    </tr>\n",
       "    <tr>\n",
       "      <th>25%</th>\n",
       "      <td>1.000000</td>\n",
       "      <td>1.000000</td>\n",
       "      <td>949.000000</td>\n",
       "      <td>649.000000</td>\n",
       "    </tr>\n",
       "    <tr>\n",
       "      <th>50%</th>\n",
       "      <td>1.000000</td>\n",
       "      <td>2.000000</td>\n",
       "      <td>1270.000000</td>\n",
       "      <td>802.500000</td>\n",
       "    </tr>\n",
       "    <tr>\n",
       "      <th>75%</th>\n",
       "      <td>2.000000</td>\n",
       "      <td>2.000000</td>\n",
       "      <td>1695.000000</td>\n",
       "      <td>1100.000000</td>\n",
       "    </tr>\n",
       "    <tr>\n",
       "      <th>max</th>\n",
       "      <td>8.000000</td>\n",
       "      <td>9.000000</td>\n",
       "      <td>52500.000000</td>\n",
       "      <td>40000.000000</td>\n",
       "    </tr>\n",
       "  </tbody>\n",
       "</table>\n",
       "</div>"
      ],
      "text/plain": [
       "         bathrooms     bedrooms         price   square_feet\n",
       "count  9998.000000  9998.000000   9998.000000   9998.000000\n",
       "mean      1.342168     1.743049   1486.391278    945.949690\n",
       "std       0.584591     0.943057   1076.547225    655.747081\n",
       "min       0.000000     0.000000    200.000000    101.000000\n",
       "25%       1.000000     1.000000    949.000000    649.000000\n",
       "50%       1.000000     2.000000   1270.000000    802.500000\n",
       "75%       2.000000     2.000000   1695.000000   1100.000000\n",
       "max       8.000000     9.000000  52500.000000  40000.000000"
      ]
     },
     "execution_count": 42,
     "metadata": {},
     "output_type": "execute_result"
    }
   ],
   "source": [
    "Data_Clean.describe()"
   ]
  },
  {
   "cell_type": "code",
   "execution_count": 43,
   "metadata": {},
   "outputs": [
    {
     "data": {
      "text/html": [
       "<div>\n",
       "<style scoped>\n",
       "    .dataframe tbody tr th:only-of-type {\n",
       "        vertical-align: middle;\n",
       "    }\n",
       "\n",
       "    .dataframe tbody tr th {\n",
       "        vertical-align: top;\n",
       "    }\n",
       "\n",
       "    .dataframe thead th {\n",
       "        text-align: right;\n",
       "    }\n",
       "</style>\n",
       "<table border=\"1\" class=\"dataframe\">\n",
       "  <thead>\n",
       "    <tr style=\"text-align: right;\">\n",
       "      <th></th>\n",
       "      <th>category</th>\n",
       "      <th>amenities</th>\n",
       "      <th>bathrooms</th>\n",
       "      <th>bedrooms</th>\n",
       "      <th>has_photo</th>\n",
       "      <th>pets_allowed</th>\n",
       "      <th>price</th>\n",
       "      <th>square_feet</th>\n",
       "      <th>cityname</th>\n",
       "      <th>state</th>\n",
       "      <th>source</th>\n",
       "    </tr>\n",
       "  </thead>\n",
       "  <tbody>\n",
       "    <tr>\n",
       "      <th>0</th>\n",
       "      <td>apartment</td>\n",
       "      <td>Nothing</td>\n",
       "      <td>0</td>\n",
       "      <td>0</td>\n",
       "      <td>Thumbnail</td>\n",
       "      <td>No</td>\n",
       "      <td>790</td>\n",
       "      <td>101</td>\n",
       "      <td>Washington</td>\n",
       "      <td>DC</td>\n",
       "      <td>RentLingo</td>\n",
       "    </tr>\n",
       "    <tr>\n",
       "      <th>1</th>\n",
       "      <td>apartment</td>\n",
       "      <td>Nothing</td>\n",
       "      <td>0</td>\n",
       "      <td>1</td>\n",
       "      <td>Thumbnail</td>\n",
       "      <td>No</td>\n",
       "      <td>425</td>\n",
       "      <td>106</td>\n",
       "      <td>Evansville</td>\n",
       "      <td>IN</td>\n",
       "      <td>RentLingo</td>\n",
       "    </tr>\n",
       "    <tr>\n",
       "      <th>2</th>\n",
       "      <td>apartment</td>\n",
       "      <td>Nothing</td>\n",
       "      <td>1</td>\n",
       "      <td>0</td>\n",
       "      <td>Thumbnail</td>\n",
       "      <td>No</td>\n",
       "      <td>1390</td>\n",
       "      <td>107</td>\n",
       "      <td>Arlington</td>\n",
       "      <td>VA</td>\n",
       "      <td>RentLingo</td>\n",
       "    </tr>\n",
       "    <tr>\n",
       "      <th>3</th>\n",
       "      <td>apartment</td>\n",
       "      <td>Nothing</td>\n",
       "      <td>1</td>\n",
       "      <td>0</td>\n",
       "      <td>Thumbnail</td>\n",
       "      <td>No</td>\n",
       "      <td>925</td>\n",
       "      <td>116</td>\n",
       "      <td>Seattle</td>\n",
       "      <td>WA</td>\n",
       "      <td>RentLingo</td>\n",
       "    </tr>\n",
       "    <tr>\n",
       "      <th>4</th>\n",
       "      <td>apartment</td>\n",
       "      <td>Nothing</td>\n",
       "      <td>0</td>\n",
       "      <td>0</td>\n",
       "      <td>Thumbnail</td>\n",
       "      <td>No</td>\n",
       "      <td>880</td>\n",
       "      <td>125</td>\n",
       "      <td>Arlington</td>\n",
       "      <td>VA</td>\n",
       "      <td>RentLingo</td>\n",
       "    </tr>\n",
       "  </tbody>\n",
       "</table>\n",
       "</div>"
      ],
      "text/plain": [
       "    category amenities  bathrooms  bedrooms  has_photo pets_allowed  price  \\\n",
       "0  apartment   Nothing          0         0  Thumbnail           No    790   \n",
       "1  apartment   Nothing          0         1  Thumbnail           No    425   \n",
       "2  apartment   Nothing          1         0  Thumbnail           No   1390   \n",
       "3  apartment   Nothing          1         0  Thumbnail           No    925   \n",
       "4  apartment   Nothing          0         0  Thumbnail           No    880   \n",
       "\n",
       "   square_feet    cityname state     source  \n",
       "0          101  Washington    DC  RentLingo  \n",
       "1          106  Evansville    IN  RentLingo  \n",
       "2          107   Arlington    VA  RentLingo  \n",
       "3          116     Seattle    WA  RentLingo  \n",
       "4          125   Arlington    VA  RentLingo  "
      ]
     },
     "execution_count": 43,
     "metadata": {},
     "output_type": "execute_result"
    }
   ],
   "source": [
    "Data_Clean.head()"
   ]
  },
  {
   "cell_type": "markdown",
   "metadata": {},
   "source": [
    "## Integer Conversion"
   ]
  },
  {
   "cell_type": "code",
   "execution_count": 44,
   "metadata": {},
   "outputs": [],
   "source": [
    "from sklearn.preprocessing import LabelEncoder\n",
    "\n",
    "Col_to_enc = ['category', 'amenities', 'has_photo', 'pets_allowed', 'cityname', 'state', 'source']\n",
    "\n",
    "\n",
    "for col in Col_to_enc:\n",
    "    if col in Data_Clean.columns:  \n",
    "        le = LabelEncoder()\n",
    "        Data_Clean[col + '_encoded'] = le.fit_transform(Data_Clean[col])\n"
   ]
  },
  {
   "cell_type": "code",
   "execution_count": 45,
   "metadata": {},
   "outputs": [],
   "source": [
    "Data_Clean_Enc=Data_Clean.select_dtypes(int,float)\n"
   ]
  },
  {
   "cell_type": "code",
   "execution_count": 46,
   "metadata": {},
   "outputs": [
    {
     "name": "stdout",
     "output_type": "stream",
     "text": [
      "<class 'pandas.core.frame.DataFrame'>\n",
      "Index: 9998 entries, 0 to 9999\n",
      "Data columns (total 11 columns):\n",
      " #   Column                Non-Null Count  Dtype\n",
      "---  ------                --------------  -----\n",
      " 0   bathrooms             9998 non-null   int64\n",
      " 1   bedrooms              9998 non-null   int64\n",
      " 2   price                 9998 non-null   int64\n",
      " 3   square_feet           9998 non-null   int64\n",
      " 4   category_encoded      9998 non-null   int64\n",
      " 5   amenities_encoded     9998 non-null   int64\n",
      " 6   has_photo_encoded     9998 non-null   int64\n",
      " 7   pets_allowed_encoded  9998 non-null   int64\n",
      " 8   cityname_encoded      9998 non-null   int64\n",
      " 9   state_encoded         9998 non-null   int64\n",
      " 10  source_encoded        9998 non-null   int64\n",
      "dtypes: int64(11)\n",
      "memory usage: 937.3 KB\n"
     ]
    }
   ],
   "source": [
    "Data_Clean_Enc.info()"
   ]
  },
  {
   "cell_type": "code",
   "execution_count": 47,
   "metadata": {},
   "outputs": [],
   "source": [
    "Data_Clean_Enc.to_csv('apartments_clean.csv',index=False)"
   ]
  }
 ],
 "metadata": {
  "kernelspec": {
   "display_name": "Python 3",
   "language": "python",
   "name": "python3"
  },
  "language_info": {
   "codemirror_mode": {
    "name": "ipython",
    "version": 3
   },
   "file_extension": ".py",
   "mimetype": "text/x-python",
   "name": "python",
   "nbconvert_exporter": "python",
   "pygments_lexer": "ipython3",
   "version": "3.11.2"
  }
 },
 "nbformat": 4,
 "nbformat_minor": 2
}
