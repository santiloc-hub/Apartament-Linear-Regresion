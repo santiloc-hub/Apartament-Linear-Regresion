{
 "cells": [
  {
   "cell_type": "markdown",
   "metadata": {},
   "source": [
    "## Library Import\n"
   ]
  },
  {
   "cell_type": "code",
   "execution_count": 190,
   "metadata": {},
   "outputs": [],
   "source": [
    "import pandas as pd\n",
    "import numpy as np\n",
    "import seaborn as sns\n",
    "import matplotlib.pyplot as plt"
   ]
  },
  {
   "cell_type": "code",
   "execution_count": 191,
   "metadata": {},
   "outputs": [
    {
     "name": "stderr",
     "output_type": "stream",
     "text": [
      "C:\\Users\\SANTI\\AppData\\Local\\Temp\\ipykernel_6724\\2903586853.py:2: DtypeWarning: Columns (15) have mixed types. Specify dtype option on import or set low_memory=False.\n",
      "  Data = pd.read_csv('apartments_for_rent_classified_100K.csv', sep=';', encoding='latin-1')\n"
     ]
    }
   ],
   "source": [
    "#Data = pd.read_csv('apartments.csv', sep=';', encoding='latin-1')\n",
    "Data = pd.read_csv('apartments_for_rent_classified_100K.csv', sep=';', encoding='latin-1')"
   ]
  },
  {
   "cell_type": "code",
   "execution_count": 192,
   "metadata": {},
   "outputs": [
    {
     "data": {
      "text/plain": [
       "Index(['id', 'category', 'title', 'body', 'amenities', 'bathrooms', 'bedrooms',\n",
       "       'currency', 'fee', 'has_photo', 'pets_allowed', 'price',\n",
       "       'price_display', 'price_type', 'square_feet', 'address', 'cityname',\n",
       "       'state', 'latitude', 'longitude', 'source', 'time'],\n",
       "      dtype='object')"
      ]
     },
     "execution_count": 192,
     "metadata": {},
     "output_type": "execute_result"
    }
   ],
   "source": [
    "\n",
    "sns.set(style='whitegrid',context='notebook')\n",
    "Data.columns"
   ]
  },
  {
   "cell_type": "markdown",
   "metadata": {},
   "source": [
    "## Types of data"
   ]
  },
  {
   "cell_type": "code",
   "execution_count": 193,
   "metadata": {},
   "outputs": [
    {
     "name": "stdout",
     "output_type": "stream",
     "text": [
      "<class 'pandas.core.frame.DataFrame'>\n",
      "RangeIndex: 99492 entries, 0 to 99491\n",
      "Data columns (total 22 columns):\n",
      " #   Column         Non-Null Count  Dtype  \n",
      "---  ------         --------------  -----  \n",
      " 0   id             99492 non-null  int64  \n",
      " 1   category       99492 non-null  object \n",
      " 2   title          99492 non-null  object \n",
      " 3   body           99492 non-null  object \n",
      " 4   amenities      83448 non-null  object \n",
      " 5   bathrooms      99429 non-null  float64\n",
      " 6   bedrooms       99368 non-null  float64\n",
      " 7   currency       99492 non-null  object \n",
      " 8   fee            99492 non-null  object \n",
      " 9   has_photo      99492 non-null  object \n",
      " 10  pets_allowed   39068 non-null  object \n",
      " 11  price          99491 non-null  float64\n",
      " 12  price_display  99491 non-null  object \n",
      " 13  price_type     99492 non-null  object \n",
      " 14  square_feet    99492 non-null  int64  \n",
      " 15  address        7943 non-null   object \n",
      " 16  cityname       99190 non-null  object \n",
      " 17  state          99190 non-null  object \n",
      " 18  latitude       99467 non-null  float64\n",
      " 19  longitude      99467 non-null  float64\n",
      " 20  source         99492 non-null  object \n",
      " 21  time           99492 non-null  int64  \n",
      "dtypes: float64(5), int64(3), object(14)\n",
      "memory usage: 16.7+ MB\n"
     ]
    }
   ],
   "source": [
    "Data.info()"
   ]
  },
  {
   "cell_type": "code",
   "execution_count": 194,
   "metadata": {},
   "outputs": [
    {
     "data": {
      "text/plain": [
       "amenities\n",
       "Parking                                                                                                    6188\n",
       "Parking,Storage                                                                                            2116\n",
       "Gym,Pool                                                                                                   1871\n",
       "Pool                                                                                                       1485\n",
       "Gym,Parking,Pool                                                                                           1187\n",
       "                                                                                                           ... \n",
       "Clubhouse,Gym,Patio/Deck,Pool,Storage,Tennis                                                                  1\n",
       "Elevator,Gated,Parking,Wood Floors                                                                            1\n",
       "AC,Cable or Satellite,Dishwasher,Fireplace,Garbage Disposal,Patio/Deck,Refrigerator,Tennis,Washer Dryer       1\n",
       "Gated,Parking,Pool,Washer Dryer,Wood Floors                                                                   1\n",
       "Dishwasher,Doorman,Patio/Deck,Refrigerator,Storage,Washer Dryer,Wood Floors                                   1\n",
       "Name: count, Length: 9827, dtype: int64"
      ]
     },
     "execution_count": 194,
     "metadata": {},
     "output_type": "execute_result"
    }
   ],
   "source": [
    "Data['amenities'].value_counts()"
   ]
  },
  {
   "cell_type": "code",
   "execution_count": 195,
   "metadata": {},
   "outputs": [],
   "source": [
    "Data['amenities']=Data['amenities'].replace(np.nan,'Nothing')"
   ]
  },
  {
   "cell_type": "code",
   "execution_count": 196,
   "metadata": {},
   "outputs": [],
   "source": [
    "Data['bathrooms']=Data['bathrooms'].fillna(0)"
   ]
  },
  {
   "cell_type": "code",
   "execution_count": 197,
   "metadata": {},
   "outputs": [],
   "source": [
    "Data['bedrooms']=Data['bedrooms'].fillna(0)"
   ]
  },
  {
   "cell_type": "code",
   "execution_count": 198,
   "metadata": {},
   "outputs": [
    {
     "data": {
      "text/plain": [
       "fee\n",
       "No     99291\n",
       "Yes      201\n",
       "Name: count, dtype: int64"
      ]
     },
     "execution_count": 198,
     "metadata": {},
     "output_type": "execute_result"
    }
   ],
   "source": [
    "Data['fee'].value_counts()"
   ]
  },
  {
   "cell_type": "code",
   "execution_count": 199,
   "metadata": {},
   "outputs": [
    {
     "data": {
      "text/plain": [
       "currency\n",
       "USD    99492\n",
       "Name: count, dtype: int64"
      ]
     },
     "execution_count": 199,
     "metadata": {},
     "output_type": "execute_result"
    }
   ],
   "source": [
    "Data['currency'].value_counts()"
   ]
  },
  {
   "cell_type": "code",
   "execution_count": 200,
   "metadata": {},
   "outputs": [],
   "source": [
    "Data=Data.drop(columns='fee')"
   ]
  },
  {
   "cell_type": "code",
   "execution_count": 201,
   "metadata": {},
   "outputs": [],
   "source": [
    "Data=Data.drop(columns='currency')"
   ]
  },
  {
   "cell_type": "code",
   "execution_count": 202,
   "metadata": {},
   "outputs": [
    {
     "data": {
      "text/plain": [
       "has_photo\n",
       "Yes          55974\n",
       "Thumbnail    34303\n",
       "No            9215\n",
       "Name: count, dtype: int64"
      ]
     },
     "execution_count": 202,
     "metadata": {},
     "output_type": "execute_result"
    }
   ],
   "source": [
    "Data['has_photo'].value_counts()"
   ]
  },
  {
   "cell_type": "code",
   "execution_count": 203,
   "metadata": {},
   "outputs": [
    {
     "data": {
      "text/plain": [
       "pets_allowed\n",
       "Cats,Dogs         37097\n",
       "Cats               1843\n",
       "Dogs                127\n",
       "Cats,Dogs,None        1\n",
       "Name: count, dtype: int64"
      ]
     },
     "execution_count": 203,
     "metadata": {},
     "output_type": "execute_result"
    }
   ],
   "source": [
    "Data['pets_allowed'].value_counts()\n"
   ]
  },
  {
   "cell_type": "code",
   "execution_count": 204,
   "metadata": {},
   "outputs": [],
   "source": [
    "Data['pets_allowed']=Data['pets_allowed'].fillna('No')"
   ]
  },
  {
   "cell_type": "code",
   "execution_count": 205,
   "metadata": {},
   "outputs": [
    {
     "data": {
      "text/plain": [
       "pets_allowed\n",
       "No                60424\n",
       "Cats,Dogs         37097\n",
       "Cats               1843\n",
       "Dogs                127\n",
       "Cats,Dogs,None        1\n",
       "Name: count, dtype: int64"
      ]
     },
     "execution_count": 205,
     "metadata": {},
     "output_type": "execute_result"
    }
   ],
   "source": [
    "Data['pets_allowed'].value_counts()"
   ]
  },
  {
   "cell_type": "code",
   "execution_count": 206,
   "metadata": {},
   "outputs": [
    {
     "data": {
      "text/plain": [
       "Text(0.5, 1.0, 'Price Distribution')"
      ]
     },
     "execution_count": 206,
     "metadata": {},
     "output_type": "execute_result"
    },
    {
     "data": {
      "image/png": "[encoded data removed]",
      "text/plain": [
       "<Figure size 640x480 with 1 Axes>"
      ]
     },
     "metadata": {},
     "output_type": "display_data"
    }
   ],
   "source": [
    "sns.boxplot(x=Data['price'])\n",
    "plt.title('Price Distribution')"
   ]
  },
  {
   "cell_type": "code",
   "execution_count": 207,
   "metadata": {},
   "outputs": [
    {
     "data": {
      "text/plain": [
       "price_display\n",
       "$1,350    574\n",
       "$850      547\n",
       "$1,200    538\n",
       "$950      528\n",
       "$1,100    522\n",
       "         ... \n",
       "$3,319      1\n",
       "$3,828      1\n",
       "$4,069      1\n",
       "$4,163      1\n",
       "$4,326      1\n",
       "Name: count, Length: 3718, dtype: int64"
      ]
     },
     "execution_count": 207,
     "metadata": {},
     "output_type": "execute_result"
    }
   ],
   "source": [
    "Data['price_display'].value_counts()"
   ]
  },
  {
   "cell_type": "code",
   "execution_count": 208,
   "metadata": {},
   "outputs": [],
   "source": [
    "Data_Clean=Data.copy()"
   ]
  },
  {
   "cell_type": "code",
   "execution_count": 209,
   "metadata": {},
   "outputs": [],
   "source": [
    "Data_Clean=Data_Clean.drop(columns='price_display')"
   ]
  },
  {
   "cell_type": "code",
   "execution_count": 210,
   "metadata": {},
   "outputs": [
    {
     "data": {
      "text/plain": [
       "price_type\n",
       "Monthly           99488\n",
       "Weekly                3\n",
       "Monthly|Weekly        1\n",
       "Name: count, dtype: int64"
      ]
     },
     "execution_count": 210,
     "metadata": {},
     "output_type": "execute_result"
    }
   ],
   "source": [
    "Data_Clean['price_type'].value_counts()"
   ]
  },
  {
   "cell_type": "code",
   "execution_count": 211,
   "metadata": {},
   "outputs": [],
   "source": [
    "Data_Clean = Data_Clean.drop(Data_Clean[Data_Clean['price_type'] == 'Weekly'].index)\n"
   ]
  },
  {
   "cell_type": "code",
   "execution_count": 212,
   "metadata": {},
   "outputs": [],
   "source": [
    "Data_Clean = Data_Clean.drop(Data_Clean[Data_Clean['price_type'] == 'Monthly|Weekly'].index)\n"
   ]
  },
  {
   "cell_type": "code",
   "execution_count": 213,
   "metadata": {},
   "outputs": [],
   "source": [
    "Data_Clean=Data_Clean.drop(columns='price_type')"
   ]
  },
  {
   "cell_type": "code",
   "execution_count": 214,
   "metadata": {},
   "outputs": [
    {
     "data": {
      "text/plain": [
       "address\n",
       "8215 S.W 72nd Avenue        19\n",
       "2647 Eastgate Road           8\n",
       "901 Valley View Circle       7\n",
       "5903 Danny Kaye Drive        6\n",
       "700 Watkins Ave              6\n",
       "                            ..\n",
       "2919 West Avenue             1\n",
       "7228 N Burlington Avenue     1\n",
       "1616 Anthony St              1\n",
       "714 N 95th St                1\n",
       "4507 South Indiana           1\n",
       "Name: count, Length: 7770, dtype: int64"
      ]
     },
     "execution_count": 214,
     "metadata": {},
     "output_type": "execute_result"
    }
   ],
   "source": [
    "Data_Clean['address'].value_counts()"
   ]
  },
  {
   "cell_type": "code",
   "execution_count": 215,
   "metadata": {},
   "outputs": [
    {
     "data": {
      "text/plain": [
       "category\n",
       "housing/rent/apartment            99427\n",
       "housing/rent/commercial/retail       42\n",
       "housing/rent                          7\n",
       "housing/rent/home                     4\n",
       "housing/rent/short_term               4\n",
       "housing/rent/condo                    3\n",
       "housing/rent/other                    1\n",
       "Name: count, dtype: int64"
      ]
     },
     "execution_count": 215,
     "metadata": {},
     "output_type": "execute_result"
    }
   ],
   "source": [
    "Data_Clean['category'].value_counts()\n"
   ]
  },
  {
   "cell_type": "code",
   "execution_count": 216,
   "metadata": {},
   "outputs": [],
   "source": [
    "Data_Clean['category']=Data_Clean['category'].replace('housing/rent/apartment','apartment')"
   ]
  },
  {
   "cell_type": "code",
   "execution_count": 217,
   "metadata": {},
   "outputs": [],
   "source": [
    "Data_Clean['category']=Data_Clean['category'].replace('housing/rent/home','home')"
   ]
  },
  {
   "cell_type": "code",
   "execution_count": 218,
   "metadata": {},
   "outputs": [],
   "source": [
    "Data_Clean['category']=Data_Clean['category'].replace('housing/rent/short_term','short_term')"
   ]
  },
  {
   "cell_type": "code",
   "execution_count": 219,
   "metadata": {},
   "outputs": [
    {
     "data": {
      "text/plain": [
       "category\n",
       "apartment                         99427\n",
       "housing/rent/commercial/retail       42\n",
       "housing/rent                          7\n",
       "home                                  4\n",
       "short_term                            4\n",
       "housing/rent/condo                    3\n",
       "housing/rent/other                    1\n",
       "Name: count, dtype: int64"
      ]
     },
     "execution_count": 219,
     "metadata": {},
     "output_type": "execute_result"
    }
   ],
   "source": [
    "Data_Clean['category'].value_counts()"
   ]
  },
  {
   "cell_type": "code",
   "execution_count": 220,
   "metadata": {},
   "outputs": [
    {
     "data": {
      "text/plain": [
       "Text(0.5, 1.0, 'Square feet distribution')"
      ]
     },
     "execution_count": 220,
     "metadata": {},
     "output_type": "execute_result"
    },
    {
     "data": {
      "image/png": "[encoded data removed]",
      "text/plain": [
       "<Figure size 640x480 with 1 Axes>"
      ]
     },
     "metadata": {},
     "output_type": "display_data"
    }
   ],
   "source": [
    "sns.boxplot(x=Data['square_feet'])\n",
    "plt.title('Square feet distribution')"
   ]
  },
  {
   "cell_type": "code",
   "execution_count": 221,
   "metadata": {},
   "outputs": [
    {
     "data": {
      "text/plain": [
       "2979"
      ]
     },
     "execution_count": 221,
     "metadata": {},
     "output_type": "execute_result"
    }
   ],
   "source": [
    "Data['cityname'].value_counts().size"
   ]
  },
  {
   "cell_type": "code",
   "execution_count": 222,
   "metadata": {},
   "outputs": [
    {
     "data": {
      "text/plain": [
       "51"
      ]
     },
     "execution_count": 222,
     "metadata": {},
     "output_type": "execute_result"
    }
   ],
   "source": [
    "Data['state'].value_counts().size"
   ]
  },
  {
   "cell_type": "code",
   "execution_count": 223,
   "metadata": {},
   "outputs": [],
   "source": [
    "Data_Clean['bathrooms']=Data_Clean['bathrooms'].astype(float).astype(int)"
   ]
  },
  {
   "cell_type": "code",
   "execution_count": 224,
   "metadata": {},
   "outputs": [],
   "source": [
    "Data_Clean['bedrooms']=Data_Clean['bedrooms'].astype(float).astype(int)"
   ]
  },
  {
   "cell_type": "code",
   "execution_count": 225,
   "metadata": {},
   "outputs": [],
   "source": [
    "Data_Clean['time']=pd.to_datetime(Data_Clean['time'],unit='s')"
   ]
  },
  {
   "cell_type": "code",
   "execution_count": 226,
   "metadata": {},
   "outputs": [],
   "source": [
    "Data_Clean=Data_Clean.drop(columns=['title','body','address','latitude','longitude','id','time'])"
   ]
  },
  {
   "cell_type": "code",
   "execution_count": 227,
   "metadata": {},
   "outputs": [
    {
     "name": "stdout",
     "output_type": "stream",
     "text": [
      "<class 'pandas.core.frame.DataFrame'>\n",
      "Index: 99488 entries, 0 to 99491\n",
      "Data columns (total 11 columns):\n",
      " #   Column        Non-Null Count  Dtype  \n",
      "---  ------        --------------  -----  \n",
      " 0   category      99488 non-null  object \n",
      " 1   amenities     99488 non-null  object \n",
      " 2   bathrooms     99488 non-null  int32  \n",
      " 3   bedrooms      99488 non-null  int32  \n",
      " 4   has_photo     99488 non-null  object \n",
      " 5   pets_allowed  99488 non-null  object \n",
      " 6   price         99487 non-null  float64\n",
      " 7   square_feet   99488 non-null  int64  \n",
      " 8   cityname      99186 non-null  object \n",
      " 9   state         99186 non-null  object \n",
      " 10  source        99488 non-null  object \n",
      "dtypes: float64(1), int32(2), int64(1), object(7)\n",
      "memory usage: 8.3+ MB\n"
     ]
    }
   ],
   "source": [
    "Data_Clean.info()"
   ]
  },
  {
   "cell_type": "code",
   "execution_count": 228,
   "metadata": {},
   "outputs": [
    {
     "data": {
      "text/html": [
       "<div>\n",
       "<style scoped>\n",
       "    .dataframe tbody tr th:only-of-type {\n",
       "        vertical-align: middle;\n",
       "    }\n",
       "\n",
       "    .dataframe tbody tr th {\n",
       "        vertical-align: top;\n",
       "    }\n",
       "\n",
       "    .dataframe thead th {\n",
       "        text-align: right;\n",
       "    }\n",
       "</style>\n",
       "<table border=\"1\" class=\"dataframe\">\n",
       "  <thead>\n",
       "    <tr style=\"text-align: right;\">\n",
       "      <th></th>\n",
       "      <th>bathrooms</th>\n",
       "      <th>bedrooms</th>\n",
       "      <th>price</th>\n",
       "      <th>square_feet</th>\n",
       "    </tr>\n",
       "  </thead>\n",
       "  <tbody>\n",
       "    <tr>\n",
       "      <th>count</th>\n",
       "      <td>99488.000000</td>\n",
       "      <td>99488.000000</td>\n",
       "      <td>99487.000000</td>\n",
       "      <td>99488.000000</td>\n",
       "    </tr>\n",
       "    <tr>\n",
       "      <th>mean</th>\n",
       "      <td>1.416693</td>\n",
       "      <td>1.726057</td>\n",
       "      <td>1527.006252</td>\n",
       "      <td>956.404551</td>\n",
       "    </tr>\n",
       "    <tr>\n",
       "      <th>std</th>\n",
       "      <td>0.532570</td>\n",
       "      <td>0.751169</td>\n",
       "      <td>903.982511</td>\n",
       "      <td>417.461141</td>\n",
       "    </tr>\n",
       "    <tr>\n",
       "      <th>min</th>\n",
       "      <td>0.000000</td>\n",
       "      <td>0.000000</td>\n",
       "      <td>100.000000</td>\n",
       "      <td>101.000000</td>\n",
       "    </tr>\n",
       "    <tr>\n",
       "      <th>25%</th>\n",
       "      <td>1.000000</td>\n",
       "      <td>1.000000</td>\n",
       "      <td>1013.000000</td>\n",
       "      <td>729.000000</td>\n",
       "    </tr>\n",
       "    <tr>\n",
       "      <th>50%</th>\n",
       "      <td>1.000000</td>\n",
       "      <td>2.000000</td>\n",
       "      <td>1350.000000</td>\n",
       "      <td>900.000000</td>\n",
       "    </tr>\n",
       "    <tr>\n",
       "      <th>75%</th>\n",
       "      <td>2.000000</td>\n",
       "      <td>2.000000</td>\n",
       "      <td>1795.000000</td>\n",
       "      <td>1115.000000</td>\n",
       "    </tr>\n",
       "    <tr>\n",
       "      <th>max</th>\n",
       "      <td>9.000000</td>\n",
       "      <td>9.000000</td>\n",
       "      <td>52500.000000</td>\n",
       "      <td>50000.000000</td>\n",
       "    </tr>\n",
       "  </tbody>\n",
       "</table>\n",
       "</div>"
      ],
      "text/plain": [
       "          bathrooms      bedrooms         price   square_feet\n",
       "count  99488.000000  99488.000000  99487.000000  99488.000000\n",
       "mean       1.416693      1.726057   1527.006252    956.404551\n",
       "std        0.532570      0.751169    903.982511    417.461141\n",
       "min        0.000000      0.000000    100.000000    101.000000\n",
       "25%        1.000000      1.000000   1013.000000    729.000000\n",
       "50%        1.000000      2.000000   1350.000000    900.000000\n",
       "75%        2.000000      2.000000   1795.000000   1115.000000\n",
       "max        9.000000      9.000000  52500.000000  50000.000000"
      ]
     },
     "execution_count": 228,
     "metadata": {},
     "output_type": "execute_result"
    }
   ],
   "source": [
    "Data_Clean.describe()"
   ]
  },
  {
   "cell_type": "code",
   "execution_count": 229,
   "metadata": {},
   "outputs": [
    {
     "data": {
      "text/html": [
       "<div>\n",
       "<style scoped>\n",
       "    .dataframe tbody tr th:only-of-type {\n",
       "        vertical-align: middle;\n",
       "    }\n",
       "\n",
       "    .dataframe tbody tr th {\n",
       "        vertical-align: top;\n",
       "    }\n",
       "\n",
       "    .dataframe thead th {\n",
       "        text-align: right;\n",
       "    }\n",
       "</style>\n",
       "<table border=\"1\" class=\"dataframe\">\n",
       "  <thead>\n",
       "    <tr style=\"text-align: right;\">\n",
       "      <th></th>\n",
       "      <th>category</th>\n",
       "      <th>amenities</th>\n",
       "      <th>bathrooms</th>\n",
       "      <th>bedrooms</th>\n",
       "      <th>has_photo</th>\n",
       "      <th>pets_allowed</th>\n",
       "      <th>price</th>\n",
       "      <th>square_feet</th>\n",
       "      <th>cityname</th>\n",
       "      <th>state</th>\n",
       "      <th>source</th>\n",
       "    </tr>\n",
       "  </thead>\n",
       "  <tbody>\n",
       "    <tr>\n",
       "      <th>0</th>\n",
       "      <td>apartment</td>\n",
       "      <td>Nothing</td>\n",
       "      <td>1</td>\n",
       "      <td>1</td>\n",
       "      <td>Thumbnail</td>\n",
       "      <td>Cats</td>\n",
       "      <td>2195.0</td>\n",
       "      <td>542</td>\n",
       "      <td>Redondo Beach</td>\n",
       "      <td>CA</td>\n",
       "      <td>RentLingo</td>\n",
       "    </tr>\n",
       "    <tr>\n",
       "      <th>1</th>\n",
       "      <td>apartment</td>\n",
       "      <td>Nothing</td>\n",
       "      <td>1</td>\n",
       "      <td>3</td>\n",
       "      <td>Thumbnail</td>\n",
       "      <td>Cats,Dogs</td>\n",
       "      <td>1250.0</td>\n",
       "      <td>1500</td>\n",
       "      <td>Newport News</td>\n",
       "      <td>VA</td>\n",
       "      <td>RentLingo</td>\n",
       "    </tr>\n",
       "    <tr>\n",
       "      <th>2</th>\n",
       "      <td>apartment</td>\n",
       "      <td>Nothing</td>\n",
       "      <td>2</td>\n",
       "      <td>3</td>\n",
       "      <td>Thumbnail</td>\n",
       "      <td>No</td>\n",
       "      <td>1395.0</td>\n",
       "      <td>1650</td>\n",
       "      <td>Raleigh</td>\n",
       "      <td>NC</td>\n",
       "      <td>RentLingo</td>\n",
       "    </tr>\n",
       "    <tr>\n",
       "      <th>3</th>\n",
       "      <td>apartment</td>\n",
       "      <td>Nothing</td>\n",
       "      <td>1</td>\n",
       "      <td>2</td>\n",
       "      <td>Thumbnail</td>\n",
       "      <td>Cats,Dogs</td>\n",
       "      <td>1600.0</td>\n",
       "      <td>820</td>\n",
       "      <td>Vacaville</td>\n",
       "      <td>CA</td>\n",
       "      <td>RentLingo</td>\n",
       "    </tr>\n",
       "    <tr>\n",
       "      <th>4</th>\n",
       "      <td>apartment</td>\n",
       "      <td>Nothing</td>\n",
       "      <td>1</td>\n",
       "      <td>1</td>\n",
       "      <td>Thumbnail</td>\n",
       "      <td>Cats,Dogs</td>\n",
       "      <td>975.0</td>\n",
       "      <td>624</td>\n",
       "      <td>Albuquerque</td>\n",
       "      <td>NM</td>\n",
       "      <td>RentLingo</td>\n",
       "    </tr>\n",
       "  </tbody>\n",
       "</table>\n",
       "</div>"
      ],
      "text/plain": [
       "    category amenities  bathrooms  bedrooms  has_photo pets_allowed   price  \\\n",
       "0  apartment   Nothing          1         1  Thumbnail         Cats  2195.0   \n",
       "1  apartment   Nothing          1         3  Thumbnail    Cats,Dogs  1250.0   \n",
       "2  apartment   Nothing          2         3  Thumbnail           No  1395.0   \n",
       "3  apartment   Nothing          1         2  Thumbnail    Cats,Dogs  1600.0   \n",
       "4  apartment   Nothing          1         1  Thumbnail    Cats,Dogs   975.0   \n",
       "\n",
       "   square_feet       cityname state     source  \n",
       "0          542  Redondo Beach    CA  RentLingo  \n",
       "1         1500   Newport News    VA  RentLingo  \n",
       "2         1650        Raleigh    NC  RentLingo  \n",
       "3          820      Vacaville    CA  RentLingo  \n",
       "4          624    Albuquerque    NM  RentLingo  "
      ]
     },
     "execution_count": 229,
     "metadata": {},
     "output_type": "execute_result"
    }
   ],
   "source": [
    "Data_Clean.head()"
   ]
  },
  {
   "cell_type": "markdown",
   "metadata": {},
   "source": [
    "## Integer Conversion"
   ]
  },
  {
   "cell_type": "code",
   "execution_count": 230,
   "metadata": {},
   "outputs": [],
   "source": [
    "Data_Clean['price'] = Data_Clean['price'].fillna(0).astype(int)\n"
   ]
  },
  {
   "cell_type": "code",
   "execution_count": 231,
   "metadata": {},
   "outputs": [],
   "source": [
    "from sklearn.preprocessing import LabelEncoder\n",
    "\n",
    "Col_to_enc = ['category', 'amenities', 'has_photo', 'pets_allowed', 'cityname', 'state', 'source']\n",
    "\n",
    "\n",
    "for col in Col_to_enc:\n",
    "    if col in Data_Clean.columns:  \n",
    "        le = LabelEncoder()\n",
    "        Data_Clean[col + '_encoded'] = le.fit_transform(Data_Clean[col])\n"
   ]
  },
  {
   "cell_type": "code",
   "execution_count": 232,
   "metadata": {},
   "outputs": [
    {
     "name": "stdout",
     "output_type": "stream",
     "text": [
      "<class 'pandas.core.frame.DataFrame'>\n",
      "Index: 99488 entries, 0 to 99491\n",
      "Data columns (total 18 columns):\n",
      " #   Column                Non-Null Count  Dtype \n",
      "---  ------                --------------  ----- \n",
      " 0   category              99488 non-null  object\n",
      " 1   amenities             99488 non-null  object\n",
      " 2   bathrooms             99488 non-null  int32 \n",
      " 3   bedrooms              99488 non-null  int32 \n",
      " 4   has_photo             99488 non-null  object\n",
      " 5   pets_allowed          99488 non-null  object\n",
      " 6   price                 99488 non-null  int32 \n",
      " 7   square_feet           99488 non-null  int64 \n",
      " 8   cityname              99186 non-null  object\n",
      " 9   state                 99186 non-null  object\n",
      " 10  source                99488 non-null  object\n",
      " 11  category_encoded      99488 non-null  int32 \n",
      " 12  amenities_encoded     99488 non-null  int32 \n",
      " 13  has_photo_encoded     99488 non-null  int32 \n",
      " 14  pets_allowed_encoded  99488 non-null  int32 \n",
      " 15  cityname_encoded      99488 non-null  int32 \n",
      " 16  state_encoded         99488 non-null  int32 \n",
      " 17  source_encoded        99488 non-null  int32 \n",
      "dtypes: int32(10), int64(1), object(7)\n",
      "memory usage: 10.6+ MB\n"
     ]
    }
   ],
   "source": [
    "Data_Clean.info()"
   ]
  },
  {
   "cell_type": "code",
   "execution_count": 233,
   "metadata": {},
   "outputs": [],
   "source": [
    "Data_Clean_Enc=Data_Clean.select_dtypes(int,float)\n"
   ]
  },
  {
   "cell_type": "code",
   "execution_count": 234,
   "metadata": {},
   "outputs": [
    {
     "name": "stdout",
     "output_type": "stream",
     "text": [
      "<class 'pandas.core.frame.DataFrame'>\n",
      "Index: 99488 entries, 0 to 99491\n",
      "Data columns (total 11 columns):\n",
      " #   Column                Non-Null Count  Dtype\n",
      "---  ------                --------------  -----\n",
      " 0   bathrooms             99488 non-null  int32\n",
      " 1   bedrooms              99488 non-null  int32\n",
      " 2   price                 99488 non-null  int32\n",
      " 3   square_feet           99488 non-null  int64\n",
      " 4   category_encoded      99488 non-null  int32\n",
      " 5   amenities_encoded     99488 non-null  int32\n",
      " 6   has_photo_encoded     99488 non-null  int32\n",
      " 7   pets_allowed_encoded  99488 non-null  int32\n",
      " 8   cityname_encoded      99488 non-null  int32\n",
      " 9   state_encoded         99488 non-null  int32\n",
      " 10  source_encoded        99488 non-null  int32\n",
      "dtypes: int32(10), int64(1)\n",
      "memory usage: 5.3 MB\n"
     ]
    }
   ],
   "source": [
    "Data_Clean_Enc.info()"
   ]
  },
  {
   "cell_type": "code",
   "execution_count": 235,
   "metadata": {},
   "outputs": [],
   "source": [
    "#Data_Clean_Enc.groupby('state_encoded').size().sort_values(ascending=False)\n",
    "#Data_Clean_Enc=Data_Clean_Enc[Data_Clean_Enc['state_encoded']==43]\n"
   ]
  },
  {
   "cell_type": "code",
   "execution_count": 236,
   "metadata": {},
   "outputs": [],
   "source": [
    "Data_Clean_Enc.to_csv('apartments_clean.csv',index=False)"
   ]
  },
  {
   "cell_type": "code",
   "execution_count": 242,
   "metadata": {},
   "outputs": [],
   "source": [
    "Data_Clean_Enc.groupby('state_encoded').size().sort_values(ascending=False)\n",
    "Data_Clean_En_TX=Data_Clean_Enc[Data_Clean_Enc['state_encoded']==43]\n"
   ]
  },
  {
   "cell_type": "code",
   "execution_count": 243,
   "metadata": {},
   "outputs": [],
   "source": [
    "Data_Clean_En_TX.to_csv('apartments_clean_TX.csv',index=False)"
   ]
  }
 ],
 "metadata": {
  "kernelspec": {
   "display_name": "base",
   "language": "python",
   "name": "python3"
  },
  "language_info": {
   "codemirror_mode": {
    "name": "ipython",
    "version": 3
   },
   "file_extension": ".py",
   "mimetype": "text/x-python",
   "name": "python",
   "nbconvert_exporter": "python",
   "pygments_lexer": "ipython3",
   "version": "3.12.7"
  }
 },
 "nbformat": 4,
 "nbformat_minor": 2
}
